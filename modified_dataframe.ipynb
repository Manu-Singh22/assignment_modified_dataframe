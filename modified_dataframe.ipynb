{
 "cells": [
  {
   "cell_type": "code",
   "execution_count": 1,
   "metadata": {},
   "outputs": [
    {
     "name": "stderr",
     "output_type": "stream",
     "text": [
      "\n",
      "Bad key \"text.kerning_factor\" on line 4 in\n",
      "C:\\Users\\MAC\\anaconda3\\lib\\site-packages\\matplotlib\\mpl-data\\stylelib\\_classic_test_patch.mplstyle.\n",
      "You probably need to get an updated matplotlibrc file from\n",
      "https://github.com/matplotlib/matplotlib/blob/v3.1.3/matplotlibrc.template\n",
      "or from the matplotlib source distribution\n"
     ]
    }
   ],
   "source": [
    "import pandas as pd\n",
    "import seaborn as s\n",
    "import numpy as np\n",
    "import scipy.stats as ss\n",
    "class modified_dataframe(pd.DataFrame):\n",
    "    def pre_processing(self,data):\n",
    "        for i in data.columns:\n",
    "            random_variable_type=determine_random_variable_type(i)\n",
    "            random_variable_distribution_type=determine_distribution_type(i)\n",
    "            random_variable_distribution_plot=s.distplot(i)\n",
    "        return \"details of random_variable variable_type{},distribution_type{}, plot{}\".format(random_variable_type,random_variable_distribution_type,random_variable_distribution_plot) \n",
    "    \n",
    "    \n",
    "    \n",
    "    \n",
    "    \n",
    "    \n",
    "    \n",
    "    def determine_distribution_type(self,column_name):\n",
    "        column_type=determine_random_variable_type(column_name)\n",
    "        if column_type == 'discrete':\n",
    "            if len(data[column_name].unique())==2:\n",
    "                return \"Binomial\"\n",
    "            else:\n",
    "                return \"Multinomial\"\n",
    "        \n",
    "        else:\n",
    "        \n",
    "            L_max_normal=calculate_L_max_normal(column_name)\n",
    "         \n",
    "            L_max_rayleigh=calculate_L_max_rayleigh(column_name)\n",
    "        \n",
    "            if L_max_normal > L_max_rayleigh:\n",
    "            \n",
    "               return 'normal'\n",
    "        \n",
    "            else:\n",
    "            \n",
    "               return 'rayleigh'\n",
    "    \n",
    "    \n",
    "    def determine_random_variable_type(self,column_name):\n",
    "        if (type(data[column_name]) == str or type(data[column_name]) == int) and (len(data[column_name].unique()) < len(data[column_name])):\n",
    "        \n",
    "             return 'discrete'\n",
    "    \n",
    "        else:\n",
    "        \n",
    "             return 'continous'\n",
    "   \n",
    "\n",
    "\n",
    "\n",
    "    def calculate_L_max_normal(self,column_name):\n",
    "        mu_best_normal = data[column_name].mean()\n",
    "        sigma_best_normal = data[column_name].std()\n",
    "        column_array=np.array(data[column_name])\n",
    "        L_max_normal=0\n",
    "        for i in column_array:\n",
    "            L_max_normal =L_max_normal+np.sum(np.log((1/(np.sqrt(2*math.pi)*sigma_best_normal)*math.exp((-1/2)*((i-mu_best_normal)/sigma_best_normal)**2)))) #write the expression for evaluating the maximized value of Log Likelihood Function for Normal Distribution\n",
    "        return L_max_normal\n",
    "\n",
    "\n",
    "\n",
    "\n",
    "\n",
    "    def calculate_L_max_rayleigh(self,column_name):\n",
    "    \n",
    "        sigma_best_rayleigh =np.sqrt(np.mean(data[column_name]**2)/2)#calculate the value of best estimate of MVU Estimator of sigma of Rayleigh Distribution here\n",
    "        column_array=np.array(data[column_name])\n",
    "        L_max_rayleigh =np.sum(ss.rayleigh.logpdf(data[column_name],sigma_best_rayleigh))#write the expression for evaluating the maximized value of Log Likelihood Function for Rayleigh Distribution\n",
    "        return L_max_rayleigh"
   ]
  },
  {
   "cell_type": "code",
   "execution_count": 2,
   "metadata": {},
   "outputs": [],
   "source": [
    "data=pd.read_csv(\"E:\\data_science\\dataset\\cancer_diagnosis.csv\")"
   ]
  },
  {
   "cell_type": "code",
   "execution_count": 3,
   "metadata": {},
   "outputs": [
    {
     "ename": "NameError",
     "evalue": "name 'pre_processing' is not defined",
     "output_type": "error",
     "traceback": [
      "\u001b[1;31m---------------------------------------------------------------------------\u001b[0m",
      "\u001b[1;31mNameError\u001b[0m                                 Traceback (most recent call last)",
      "\u001b[1;32m<ipython-input-3-b16f341ce23e>\u001b[0m in \u001b[0;36m<module>\u001b[1;34m\u001b[0m\n\u001b[1;32m----> 1\u001b[1;33m \u001b[0mpre_processing\u001b[0m\u001b[1;33m(\u001b[0m\u001b[0mdata\u001b[0m\u001b[1;33m)\u001b[0m\u001b[1;33m\u001b[0m\u001b[1;33m\u001b[0m\u001b[0m\n\u001b[0m",
      "\u001b[1;31mNameError\u001b[0m: name 'pre_processing' is not defined"
     ]
    }
   ],
   "source": []
  },
  {
   "cell_type": "code",
   "execution_count": null,
   "metadata": {},
   "outputs": [],
   "source": []
  }
 ],
 "metadata": {
  "kernelspec": {
   "display_name": "Python 3",
   "language": "python",
   "name": "python3"
  },
  "language_info": {
   "codemirror_mode": {
    "name": "ipython",
    "version": 3
   },
   "file_extension": ".py",
   "mimetype": "text/x-python",
   "name": "python",
   "nbconvert_exporter": "python",
   "pygments_lexer": "ipython3",
   "version": "3.7.6"
  }
 },
 "nbformat": 4,
 "nbformat_minor": 4
}
